{
 "cells": [
  {
   "cell_type": "code",
   "execution_count": 1,
   "id": "f90ff452",
   "metadata": {},
   "outputs": [],
   "source": [
    "import requests as rq\n",
    "import json\n",
    "from wordcloud import WordCloud\n",
    "import numpy as np\n",
    "import pandas as pd\n",
    "import re, os\n",
    "import matplotlib\n",
    "import matplotlib.pyplot as plt\n",
    "from matplotlib import font_manager,rc\n",
    "import konlpy\n",
    "import bs4\n",
    "import tweepy\n",
    "import openpyxl\n",
    "import sys\n",
    "import seaborn as sns\n",
    "from selenium import webdriver\n",
    "from selenium.webdriver.chrome.service import Service\n",
    "from selenium.webdriver.common.by import By\n",
    "from PIL import Image\n",
    "from selenium import webdriver\n",
    "from selenium.webdriver.chrome.service import Service\n",
    "from selenium.webdriver.common.by import By\n",
    "#!pip uninstall tweepy\n",
    "#!pip install tweepy==3.10.0\n",
    "#!pip install konlpy\n",
    "#!pip install opencv-python\n",
    "#!pip install pytesseract\n",
    "#!pip install pyautogui                         # Pillow 패키지의 영상 핸들링 클래스.\n",
    "%matplotlib inline"
   ]
  },
  {
   "cell_type": "code",
   "execution_count": null,
   "id": "24ea4282",
   "metadata": {},
   "outputs": [],
   "source": [
    "# 크롬 드라이버 로딩.\n",
    "my_service = Service(\"chromedriver.exe\")\n",
    "my_driver = webdriver.Chrome(service=my_service)"
   ]
  },
  {
   "cell_type": "code",
   "execution_count": null,
   "id": "00061d14",
   "metadata": {},
   "outputs": [],
   "source": [
    "def get_titles(my_soup):\n",
    "    my_ul=my_soup.find('ul', class_='list_news')\n",
    "    my_titles=my_ul.select('a.news_tit')\n",
    "    my_titles_list=[x.text.strip() for x in my_titles]\n",
    "    print(my_titles_list)\n",
    "    return pd.DataFrame(my_titles_list)"
   ]
  },
  {
   "cell_type": "code",
   "execution_count": null,
   "id": "f7332cea",
   "metadata": {},
   "outputs": [],
   "source": [
    "# 사이트에 접속.\n",
    "my_url = \"https://search.naver.com/search.naver?where=news&sm=tab_pge&query=%EB%B6%80%EC%8B%A4%EA%B3%B5%EC%82%AC&sort=0&photo=0&field=0&pd=0&ds=&de=&cluster_rank=48&mynews=0&office_type=0&office_section_code=0&news_office_checked=&office_category=0&service_area=0&nso=so:r,p:all,a:all&start=\"\n",
    "for i in range(1,11):\n",
    "    i= 10*i-9\n",
    "    my_driver.get(my_url + str(i))\n",
    "    my_html = my_driver.page_source\n",
    "    soup = bs4.BeautifulSoup(my_html, 'html.parser')     \n",
    "    if i == 1:\n",
    "        df = get_titles(soup)\n",
    "    else:\n",
    "        df = pd.concat([df, get_titles(soup)],axis=0,ignore_index=True)"
   ]
  },
  {
   "cell_type": "code",
   "execution_count": null,
   "id": "1e484e46",
   "metadata": {},
   "outputs": [],
   "source": [
    "df.to_csv(r'..\\jhfolder\\bgproject\\bg_keywords.csv', encoding='cp949', index=False)"
   ]
  },
  {
   "cell_type": "code",
   "execution_count": null,
   "id": "28af8534",
   "metadata": {},
   "outputs": [],
   "source": [
    "my_wb = openpyxl.Workbook()           # 메모리 안에서만 존재.\n",
    "print(my_wb.sheetnames)"
   ]
  },
  {
   "cell_type": "code",
   "execution_count": null,
   "id": "f326069e",
   "metadata": {},
   "outputs": [],
   "source": [
    "my_sh = my_wb['Sheet']"
   ]
  },
  {
   "cell_type": "code",
   "execution_count": null,
   "id": "5173a124",
   "metadata": {},
   "outputs": [],
   "source": [
    "dfe=pd.read_excel(r'..\\jhfolder\\bgproject\\찐업체벌점.xlsx')"
   ]
  },
  {
   "cell_type": "code",
   "execution_count": null,
   "id": "2127417f",
   "metadata": {},
   "outputs": [],
   "source": [
    "dfe"
   ]
  },
  {
   "cell_type": "code",
   "execution_count": null,
   "id": "40bebfe6",
   "metadata": {},
   "outputs": [],
   "source": [
    "dfe.drop(labels=['업무영역','법인등록번호','부과기관/벌점부과번호/현장벌점','반기벌점'],axis=1, inplace=True)\n",
    "dfe"
   ]
  },
  {
   "cell_type": "code",
   "execution_count": null,
   "id": "e4422547",
   "metadata": {},
   "outputs": [],
   "source": [
    "dfe=dfe.rename(columns={'Unnamed: 5':'벌점부과번호','Unnamed: 6':'현장벌점'})"
   ]
  },
  {
   "cell_type": "code",
   "execution_count": null,
   "id": "f50fdbb7",
   "metadata": {},
   "outputs": [],
   "source": [
    "dfe"
   ]
  },
  {
   "cell_type": "code",
   "execution_count": null,
   "id": "4461b109",
   "metadata": {},
   "outputs": [],
   "source": [
    "df2 = dfe.groupby('업체명')[['현장벌점']].sum()\n",
    "#합산벌점도 한번에 넣어 합을 나타낼 수 있었지만 합산벌점은 평균으로 계산해야 하기 때문"
   ]
  },
  {
   "cell_type": "code",
   "execution_count": null,
   "id": "d6933d51",
   "metadata": {},
   "outputs": [],
   "source": [
    "dfp=df2.sort_values(by='현장벌점',ascending=False)"
   ]
  },
  {
   "cell_type": "code",
   "execution_count": null,
   "id": "0766a474",
   "metadata": {},
   "outputs": [],
   "source": [
    "dfp"
   ]
  },
  {
   "cell_type": "code",
   "execution_count": null,
   "id": "18a29caa",
   "metadata": {},
   "outputs": [],
   "source": [
    "df3 = dfe.groupby('업체명')[['합산벌점']].mean(numeric_only=True)"
   ]
  },
  {
   "cell_type": "code",
   "execution_count": null,
   "id": "e62777de",
   "metadata": {},
   "outputs": [],
   "source": [
    "df3"
   ]
  },
  {
   "cell_type": "code",
   "execution_count": null,
   "id": "c83d9b6f",
   "metadata": {},
   "outputs": [],
   "source": [
    "dfs=df3.sort_values(by='합산벌점',ascending=False)"
   ]
  },
  {
   "cell_type": "code",
   "execution_count": null,
   "id": "d5521d08",
   "metadata": {},
   "outputs": [],
   "source": [
    "dfs"
   ]
  },
  {
   "cell_type": "markdown",
   "id": "507c8788",
   "metadata": {},
   "source": [
    "# dfp dfs끼리 랭킹 비교"
   ]
  },
  {
   "cell_type": "code",
   "execution_count": null,
   "id": "7e703490",
   "metadata": {},
   "outputs": [],
   "source": [
    "dfp[:10]"
   ]
  },
  {
   "cell_type": "code",
   "execution_count": null,
   "id": "5267cf7a",
   "metadata": {},
   "outputs": [],
   "source": [
    "dfs[:10]"
   ]
  },
  {
   "cell_type": "code",
   "execution_count": null,
   "id": "e91cf3fc",
   "metadata": {},
   "outputs": [],
   "source": [
    "dfp.loc['화성산업(주)']"
   ]
  },
  {
   "cell_type": "markdown",
   "id": "328c92a5",
   "metadata": {},
   "source": [
    "## 당기순이익 연도별 그래프"
   ]
  },
  {
   "cell_type": "code",
   "execution_count": 2,
   "id": "62a71779",
   "metadata": {},
   "outputs": [
    {
     "data": {
      "image/png": "[encoded data removed]",
      "text/plain": [
       "<Figure size 640x480 with 1 Axes>"
      ]
     },
     "metadata": {},
     "output_type": "display_data"
    }
   ],
   "source": [
    "font_path='C:/Windows/Fonts/malgun.ttf'\n",
    "font_name=font_manager.FontProperties(fname=font_path).get_name()\n",
    "matplotlib.rc('font',family=font_name)\n",
    "x=['2019','2020','2021','2022']\n",
    "y=[19451,25944,21635,4624]\n",
    "plt.bar(x,y,color='skyblue')\n",
    "plt.title('(주)다온시앤디 당기순이익')\n",
    "plt.xlabel('연도')\n",
    "plt.ylabel('금액(단위:만원)')\n",
    "plt.show()"
   ]
  },
  {
   "cell_type": "code",
   "execution_count": 3,
   "id": "bc325917",
   "metadata": {},
   "outputs": [
    {
     "name": "stderr",
     "output_type": "stream",
     "text": [
      "C:\\Users\\1104-12\\anaconda3\\Lib\\site-packages\\IPython\\core\\pylabtools.py:152: UserWarning: Glyph 8722 (\\N{MINUS SIGN}) missing from current font.\n",
      "  fig.canvas.print_figure(bytes_io, **kw)\n"
     ]
    },
    {
     "data": {
      "image/png": "[encoded data removed]",
      "text/plain": [
       "<Figure size 640x480 with 1 Axes>"
      ]
     },
     "metadata": {},
     "output_type": "display_data"
    }
   ],
   "source": [
    "font_path='C:/Windows/Fonts/malgun.ttf'\n",
    "font_name=font_manager.FontProperties(fname=font_path).get_name()\n",
    "matplotlib.rc('font',family=font_name)\n",
    "x=['2019','2020','2021','2022']\n",
    "y=[91726,355000,-212000,-123000]\n",
    "plt.bar(x,y,color='grey')\n",
    "plt.title('동원에이스건설 당기순이익')\n",
    "plt.xlabel('연도')\n",
    "plt.ylabel('금액(단위:만원)')\n",
    "plt.ylim([-400000,400000])\n",
    "plt.show()"
   ]
  },
  {
   "cell_type": "code",
   "execution_count": 4,
   "id": "f1804c17",
   "metadata": {},
   "outputs": [
    {
     "data": {
      "image/png": "[encoded data removed]",
      "text/plain": [
       "<Figure size 640x480 with 1 Axes>"
      ]
     },
     "metadata": {},
     "output_type": "display_data"
    }
   ],
   "source": [
    "font_path='C:/Windows/Fonts/malgun.ttf'\n",
    "font_name=font_manager.FontProperties(fname=font_path).get_name()\n",
    "matplotlib.rc('font',family=font_name)\n",
    "x=['2019','2020','2021','2022']\n",
    "y=[19003,18899,18053,12934]\n",
    "plt.bar(x,y,color='orange', alpha=0.7)\n",
    "plt.title('스카이드림건설 당기순이익')\n",
    "plt.xlabel('연도')\n",
    "plt.ylabel('금액(단위:만원)')\n",
    "plt.show()"
   ]
  },
  {
   "cell_type": "code",
   "execution_count": null,
   "id": "81c0c514",
   "metadata": {},
   "outputs": [],
   "source": [
    "data_list = [ ['(주)다온시앤디',19451,25944,21635,4624],\n",
    "              ['동원에이스건설',91726,355000,-212000],\n",
    "              ['2021', 25, 'M']\n",
    "                                ]\n",
    "dfi= pd.DataFrame(data=data_list, columns =['기업이름','2019', '2020', '2021','2022'])\n",
    "dfi"
   ]
  }
 ],
 "metadata": {
  "kernelspec": {
   "display_name": "Python 3 (ipykernel)",
   "language": "python",
   "name": "python3"
  },
  "language_info": {
   "codemirror_mode": {
    "name": "ipython",
    "version": 3
   },
   "file_extension": ".py",
   "mimetype": "text/x-python",
   "name": "python",
   "nbconvert_exporter": "python",
   "pygments_lexer": "ipython3",
   "version": "3.11.5"
  }
 },
 "nbformat": 4,
 "nbformat_minor": 5
}
