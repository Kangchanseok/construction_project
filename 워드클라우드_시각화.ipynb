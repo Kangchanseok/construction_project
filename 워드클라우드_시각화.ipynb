{
 "cells": [
  {
   "cell_type": "code",
   "execution_count": null,
   "metadata": {
    "colab": {
     "base_uri": "https://localhost:8080/"
    },
    "id": "K6Yadm4TjTz_",
    "outputId": "ebff6068-bd21-405f-bd84-227484eafaba"
   },
   "outputs": [],
   "source": [
    "!pip install konlpy"
   ]
  },
  {
   "cell_type": "code",
   "execution_count": null,
   "metadata": {
    "colab": {
     "base_uri": "https://localhost:8080/"
    },
    "id": "dlkBsDn-jZLb",
    "outputId": "c670bf8e-b3a9-40f7-af4c-a7cc013b17a6"
   },
   "outputs": [],
   "source": [
    "!sudo apt-get install -y fonts-nanum\n",
    "!sudo fc-cache -fv\n",
    "!rm ~/.cache/matplitlib -rf"
   ]
  },
  {
   "cell_type": "code",
   "execution_count": null,
   "metadata": {
    "id": "6rtVKxNhjnJa"
   },
   "outputs": [],
   "source": [
    "from wordcloud import WordCloud\n",
    "from wordcloud import ImageColorGenerator\n",
    "import konlpy\n",
    "import numpy as np\n",
    "import pandas as pd\n",
    "import re\n",
    "import matplotlib.pyplot as plt\n",
    "from PIL import Image                         # Pillow 패키지의 영상 핸들링 클래스.\n",
    "%matplotlib inline\n",
    "plt.rc('font', family='NanumBarunGothic')"
   ]
  },
  {
   "cell_type": "code",
   "execution_count": null,
   "metadata": {
    "colab": {
     "base_uri": "https://localhost:8080/"
    },
    "id": "kTIxmIqZjsoO",
    "outputId": "007f33ee-8ed5-4fbf-afc2-37e0baef15a5"
   },
   "outputs": [],
   "source": [
    "from google.colab import drive\n",
    "drive.mount('/content/drive')"
   ]
  },
  {
   "cell_type": "code",
   "execution_count": null,
   "metadata": {
    "colab": {
     "base_uri": "https://localhost:8080/"
    },
    "id": "ySD1EKU-jzS9",
    "outputId": "a95fe064-0239-46fa-bb17-6fe152bbb0d9"
   },
   "outputs": [],
   "source": [
    "%cd \"/content/drive/MyDrive/jhfolder/notebook/bg_project\""
   ]
  },
  {
   "cell_type": "code",
   "execution_count": null,
   "metadata": {
    "id": "DMX8jSxKkoDf"
   },
   "outputs": [],
   "source": [
    "f = open(\"/content/drive/MyDrive/jhfolder/notebook/bg_project/bg_keywords.csv\",'r',encoding=\"ms949\")  # Encoding 주의!!!\n",
    "my_text = f.readlines()\n",
    "f.close()"
   ]
  },
  {
   "cell_type": "code",
   "execution_count": null,
   "metadata": {
    "colab": {
     "base_uri": "https://localhost:8080/"
    },
    "id": "n9bJmxdIk3HH",
    "outputId": "90549cb8-14af-4e9b-c0b3-9f321671e450"
   },
   "outputs": [],
   "source": [
    "my_text[:15]"
   ]
  },
  {
   "cell_type": "code",
   "execution_count": null,
   "metadata": {
    "id": "EwdDEvEEk77F"
   },
   "outputs": [],
   "source": [
    "no_meaning='부실|공사|건설|책임|중대|관련|논란'\n",
    "my_text_clean = []\n",
    "\n",
    "for a_line in my_text:\n",
    "    a_line = re.sub('\\W+',' ', a_line)           # 특수 문자 스페이스로 대체.\n",
    "    a_line = re.sub('\\d+',' ', a_line)           # 수치 스페이스로 대체.\n",
    "    a_line = re.sub('[a-zA-Z]',' ',a_line)       # 영문 스페이스로 대체.\n",
    "    a_line = re.sub('ㅠ|ㅋ|ㅎ', ' ', a_line)     # 단모음, 단자음 스페이스로 대체.\n",
    "    a_line = re.sub(no_meaning, ' ', a_line)     # 의미 없는 단어 스페이스로 대체.\n",
    "    a_line = re.sub('\\s+', ' ', a_line)          # 잉여 스페이즈 줄임.\n",
    "    my_text_clean.append(a_line)"
   ]
  },
  {
   "cell_type": "code",
   "execution_count": null,
   "metadata": {
    "colab": {
     "base_uri": "https://localhost:8080/"
    },
    "id": "6ziGkcS6oi7Q",
    "outputId": "37c3054d-fd23-4683-91eb-c6b230efb8b1",
    "scrolled": true
   },
   "outputs": [],
   "source": [
    "my_text_clean[:10]"
   ]
  },
  {
   "cell_type": "code",
   "execution_count": null,
   "metadata": {
    "id": "NDzScghkopw8"
   },
   "outputs": [],
   "source": [
    "my_tagger = konlpy.tag.Okt()"
   ]
  },
  {
   "cell_type": "code",
   "execution_count": null,
   "metadata": {
    "id": "V6WKc0Gso5a3"
   },
   "outputs": [],
   "source": [
    "my_words = []\n",
    "for a_line in my_text_clean:\n",
    "    my_words.extend( my_tagger.nouns(a_line) )"
   ]
  },
  {
   "cell_type": "code",
   "execution_count": null,
   "metadata": {
    "id": "fDynmsGupEdv"
   },
   "outputs": [],
   "source": [
    "# 단음절 제거.\n",
    "my_words_2 = []\n",
    "for a_word in my_words:\n",
    "    if len(a_word) > 1:\n",
    "        my_words_2 += [a_word]"
   ]
  },
  {
   "cell_type": "code",
   "execution_count": null,
   "metadata": {
    "id": "gy-N1t3upQ5D"
   },
   "outputs": [],
   "source": [
    "# Series 로 변환.\n",
    "my_series = pd.Series(my_words_2)"
   ]
  },
  {
   "cell_type": "code",
   "execution_count": null,
   "metadata": {
    "colab": {
     "base_uri": "https://localhost:8080/"
    },
    "id": "iasMd8E6pgiZ",
    "outputId": "63897f14-8a42-4f54-944d-4624d206e0ee"
   },
   "outputs": [],
   "source": [
    "# 도수 분포표. Top 10.\n",
    "my_word_counts = my_series.value_counts().sort_values(ascending=False)\n",
    "my_word_counts[:10]"
   ]
  },
  {
   "cell_type": "code",
   "execution_count": null,
   "metadata": {
    "id": "FBl9YVnHpmTi"
   },
   "outputs": [],
   "source": [
    "# 딕셔너리로 변환해 둔다.\n",
    "my_dict = dict(my_word_counts)"
   ]
  },
  {
   "cell_type": "code",
   "execution_count": null,
   "metadata": {
    "id": "DnKTYsLRp6hV"
   },
   "outputs": [],
   "source": [
    "# 다음은 워드클라우드의 요구사항.\n",
    "a_long_sentence = ' '.join(my_words_2)"
   ]
  },
  {
   "cell_type": "code",
   "execution_count": null,
   "metadata": {
    "colab": {
     "base_uri": "https://localhost:8080/"
    },
    "id": "OMUqTqwYp-Nt",
    "outputId": "e71d11c9-0008-4707-b2d7-23320f1aeec8"
   },
   "outputs": [],
   "source": [
    "wc = WordCloud(font_path='/usr/share/fonts/truetype/nanum/NanumBarunGothic',\n",
    "               background_color='white',\n",
    "               max_words=30)              # 바탕색, 단어 개수 등 설정.\n",
    "wc.generate(a_long_sentence)\n",
    "#wc.generate_from_frequencies(my_dict)\n",
    "# wc.words_"
   ]
  },
  {
   "cell_type": "code",
   "execution_count": null,
   "metadata": {
    "colab": {
     "base_uri": "https://localhost:8080/",
     "height": 424
    },
    "id": "SbOJAr7yqMxq",
    "outputId": "89f90f46-7e6a-4803-cefb-a771f2246003"
   },
   "outputs": [],
   "source": [
    "plt.figure(figsize=(10,10))\n",
    "plt.imshow(wc)\n",
    "plt.axis(\"off\")                                    # 축을 꺼줌.\n",
    "plt.show()\n",
    "#절기는 동절기 관련된 키워드"
   ]
  },
  {
   "cell_type": "code",
   "execution_count": null,
   "metadata": {
    "id": "Q_ZWj05YqO2U"
   },
   "outputs": [],
   "source": [
    "img =Image.open('/content/drive/MyDrive/jhfolder/notebook/bg_project/last.png') \n",
    "back_mask = np.array(img)"
   ]
  },
  {
   "cell_type": "code",
   "execution_count": null,
   "metadata": {
    "colab": {
     "base_uri": "https://localhost:8080/"
    },
    "id": "vvKpkwZIwbpQ",
    "outputId": "00009b60-a596-4be0-cfc5-26ae1ca91df0"
   },
   "outputs": [],
   "source": [
    "wc = WordCloud(font_path='/usr/share/fonts/truetype/nanum/NanumBarunGothic',\n",
    "               background_color='white',\n",
    "               max_words=30,\n",
    "               mask=back_mask,\n",
    "               contour_width=0,\n",
    "               contour_color='grey')            \n",
    "wc.generate(a_long_sentence)"
   ]
  },
  {
   "cell_type": "code",
   "execution_count": null,
   "metadata": {
    "colab": {
     "base_uri": "https://localhost:8080/",
     "height": 499
    },
    "id": "DRnhXzgKxBbf",
    "outputId": "14202679-0148-41c9-d747-de227bfe1efc"
   },
   "outputs": [],
   "source": [
    "plt.figure(figsize=(6,6))\n",
    "plt.imshow(wc)\n",
    "plt.axis(\"off\")                                   \n",
    "plt.show()"
   ]
  },
  {
   "cell_type": "code",
   "execution_count": null,
   "metadata": {
    "id": "7wEEuBgxxDm3"
   },
   "outputs": [],
   "source": []
  }
 ],
 "metadata": {
  "colab": {
   "provenance": []
  },
  "kernelspec": {
   "display_name": "Python 3 (ipykernel)",
   "language": "python",
   "name": "python3"
  },
  "language_info": {
   "codemirror_mode": {
    "name": "ipython",
    "version": 3
   },
   "file_extension": ".py",
   "mimetype": "text/x-python",
   "name": "python",
   "nbconvert_exporter": "python",
   "pygments_lexer": "ipython3",
   "version": "3.11.5"
  }
 },
 "nbformat": 4,
 "nbformat_minor": 1
}
